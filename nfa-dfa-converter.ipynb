{
 "cells": [
  {
   "cell_type": "code",
   "execution_count": 11,
   "metadata": {},
   "outputs": [],
   "source": [
    "import json\n",
    "from queue import Queue\n",
    "import networkx as nx\n",
    "import matplotlib.pyplot as plt"
   ]
  },
  {
   "cell_type": "code",
   "execution_count": 12,
   "metadata": {},
   "outputs": [],
   "source": [
    "# Open the JSON file\n",
    "with open('NFA.json', 'r',encoding=\"utf-8\") as file:\n",
    "    # Load JSON data from the file\n",
    "    data = json.load(file)"
   ]
  },
  {
   "cell_type": "code",
   "execution_count": 13,
   "metadata": {},
   "outputs": [
    {
     "name": "stdout",
     "output_type": "stream",
     "text": [
      "['a']\n"
     ]
    }
   ],
   "source": [
    "# -*- coding: utf-8 -*-\n",
    "all_pos_trans=[]        \n",
    "for state,value in data.items():\n",
    "    if state in [\"startingState\"]:continue\n",
    "    for trans in value.keys():\n",
    "        if trans in [\"isTerminatingState\",\"ε\"]:continue\n",
    "        all_pos_trans.append(trans)\n",
    "print(all_pos_trans)\n",
    "\n",
    "terminating_states=[]\n",
    "# for state,value in data.items():\n",
    "#     if state==\"startingState\":continue  \n",
    "#     if value.get('isTerminatingState')==True:\n",
    "#         terminating_states.append(state)\n",
    "# print(terminating_states)"
   ]
  },
  {
   "cell_type": "code",
   "execution_count": 14,
   "metadata": {},
   "outputs": [],
   "source": [
    "def rec_epsilon(state,new_state_list):\n",
    "\n",
    "    epsilons=state.get('ε')\n",
    "    if not epsilons:\n",
    "        return new_state_list\n",
    "    for next_state in epsilons:\n",
    "        if next_state not in new_state_list:\n",
    "            new_state_list.append(next_state)\n",
    "            rec_epsilon(data.get(next_state),new_state_list)\n",
    "    return new_state_list"
   ]
  },
  {
   "cell_type": "code",
   "execution_count": 15,
   "metadata": {},
   "outputs": [
    {
     "name": "stdout",
     "output_type": "stream",
     "text": [
      "['S2', 'S3', 'S1', 'S4', 'S5', 'S6']\n",
      "['S2', 'S3', 'S1', 'S4', 'S5', 'S6']\n"
     ]
    }
   ],
   "source": [
    "\n",
    "\n",
    "# Now 'data' contains the contents of the JSON file as a Python dictionary\n",
    "state_transition_state=[]\n",
    "states_to_process_queue = Queue()\n",
    "existing_states_queue = Queue()\n",
    "startState=data.get('startingState')\n",
    "all_states_dic={}\n",
    "\n",
    "# all states that can be reached initially with epsilon transitions \n",
    "# combined in one initial state\n",
    "DFA_startState=rec_epsilon(data.get(startState),[startState])\n",
    "DFA_startState.sort()\n",
    "states_to_process_queue.put(DFA_startState)\n",
    "existing_states_queue.put(DFA_startState)\n",
    "for sub_stat in DFA_startState:\n",
    "    # print(succ_state,data.get(succ_state),data.get(succ_state).get(\"isTerminatingState\"))\n",
    "    if data.get(sub_stat).get(\"isTerminatingState\")==True:\n",
    "        terminating_states.append(tuple(DFA_startState))\n",
    "\n",
    "# print(DFA_startState)\n",
    "while not states_to_process_queue.empty():\n",
    "    dfa_state = states_to_process_queue.get()#all bubles\n",
    "    #add it in a dic to rename\n",
    "    lenth_dic=len(all_states_dic)\n",
    "    if tuple(dfa_state) not in all_states_dic:\n",
    "        all_states_dic[tuple(dfa_state)]=str(lenth_dic)\n",
    "    # print(\"dfa bubble \",dfa_state)\n",
    "    for poss_trans in all_pos_trans:#all transition in all file\n",
    "        state_to_add=[]\n",
    "        is_terminal=False\n",
    "        # for element in state_transition_state:\n",
    "            # print(element, end=' ')\n",
    "            # print()\n",
    "        for sub_state in dfa_state:#each s in the buble\n",
    "            # print(\"char in bubble \",sub_state)\n",
    "            # print(poss_trans,data.get(sub_state))\n",
    "            if poss_trans in data.get(sub_state):#all transition in each s in buble\n",
    "            # Loop over dictionary elements excluding certain values\n",
    "                # print(\"equallll\")\n",
    "                for succ_state in data.get(sub_state).get(poss_trans):\n",
    "                    \n",
    "                    state_to_add.append(succ_state)\n",
    "                    succ_state_epsilons=rec_epsilon(data.get(succ_state),state_to_add)\n",
    "                    state_to_add=succ_state_epsilons\n",
    "                    print(state_to_add)\n",
    "                    for sub_stat_after_epsilon in state_to_add:\n",
    "                        # print(succ_state,data.get(succ_state),data.get(succ_state).get(\"isTerminatingState\"))\n",
    "                        if data.get(sub_stat_after_epsilon).get(\"isTerminatingState\")==True:\n",
    "                            is_terminal=True\n",
    "                        \n",
    "                    # print(\"succ state \",succ_state)\n",
    "        if len(state_to_add)==0:continue\n",
    "        state_to_add.sort()\n",
    "        if state_to_add not in existing_states_queue.queue and state_to_add not in states_to_process_queue.queue:\n",
    "            existing_states_queue.put(state_to_add)\n",
    "            states_to_process_queue.put(state_to_add)\n",
    "        if is_terminal==True:\n",
    "            terminating_states.append(tuple(state_to_add))\n",
    "        \n",
    "        state_transition_state.append((tuple(dfa_state),poss_trans,tuple(state_to_add)))\n",
    "        \n",
    "\n",
    "    \n",
    "                   \n",
    "\n"
   ]
  },
  {
   "cell_type": "code",
   "execution_count": 16,
   "metadata": {},
   "outputs": [
    {
     "name": "stdout",
     "output_type": "stream",
     "text": [
      "{('S1', 'S3', 'S4', 'S5', 'S6'): '0', ('S1', 'S2', 'S3', 'S4', 'S5', 'S6'): '1'}\n",
      "[('S1', 'S2', 'S3', 'S4', 'S5', 'S6'), ('S1', 'S2', 'S3', 'S4', 'S5', 'S6')]\n"
     ]
    }
   ],
   "source": [
    "print(all_states_dic)\n",
    "print(terminating_states)"
   ]
  },
  {
   "cell_type": "code",
   "execution_count": 17,
   "metadata": {},
   "outputs": [
    {
     "name": "stdout",
     "output_type": "stream",
     "text": [
      "[('S1', 'S2', 'S3', 'S4', 'S5', 'S6'), ('S1', 'S2', 'S3', 'S4', 'S5', 'S6')]\n",
      "{'startingState': '0', '0': {'isTerminatingState': False, 'a': ['1']}, '1': {'isTerminatingState': True, 'a': ['1']}}\n"
     ]
    }
   ],
   "source": [
    "print(terminating_states)\n",
    "# state_transition_state=[\n",
    "#     (('S3', 'S1'), 'a', ('S2', 'S3')), \n",
    "# (('S3', 'S1'), 'c', ('S2',)), \n",
    "# (('S2', 'S3'), 'b', ('S6',)) ,\n",
    "# ]\n",
    "final_dict={\"startingState\":all_states_dic.get(tuple(DFA_startState))}\n",
    "for tupl in state_transition_state:\n",
    "    if all_states_dic.get(tupl[0]) not in final_dict.keys():\n",
    "\n",
    "        final_dict[all_states_dic.get(tupl[0])] ={\n",
    "            \"isTerminatingState\":tupl[0] in terminating_states,\n",
    "            tupl[1]:[all_states_dic.get(tupl[2])]\n",
    "        }\n",
    "    elif all_states_dic.get(tupl[1]) not in final_dict[all_states_dic.get(tupl[0])].keys():\n",
    "        final_dict[all_states_dic.get(tupl[0])][tupl[1]]=[all_states_dic.get(tupl[2])]\n",
    "    else :\n",
    "        final_dict[all_states_dic.get(tupl[0])][tupl[1]].append(all_states_dic.get(tupl[2]))\n",
    "    \n",
    "    if all_states_dic.get(tupl[2]) not in  final_dict.keys():\n",
    "        \n",
    "        final_dict[all_states_dic.get(tupl[2])] ={\n",
    "            \"isTerminatingState\":tupl[2] in terminating_states\n",
    "        }\n",
    "\n",
    "print(final_dict)\n",
    "\n",
    "with open(\"dfa.json\", \"w\") as json_file:\n",
    "    json.dump(final_dict, json_file, indent=4)\n",
    "\n"
   ]
  },
  {
   "cell_type": "code",
   "execution_count": 18,
   "metadata": {},
   "outputs": [
    {
     "name": "stdout",
     "output_type": "stream",
     "text": [
      "[('S1', 'S2', 'S3', 'S4', 'S5', 'S6'), ('S1', 'S2', 'S3', 'S4', 'S5', 'S6')]\n"
     ]
    }
   ],
   "source": [
    "print(terminating_states)"
   ]
  },
  {
   "cell_type": "code",
   "execution_count": 19,
   "metadata": {},
   "outputs": [
    {
     "name": "stdout",
     "output_type": "stream",
     "text": [
      "False\n",
      "True\n",
      "0 1 a\n",
      "1 1 a\n"
     ]
    },
    {
     "data": {
      "image/svg+xml": [
       "<?xml version=\"1.0\" encoding=\"UTF-8\" standalone=\"no\"?>\n",
       "<!DOCTYPE svg PUBLIC \"-//W3C//DTD SVG 1.1//EN\"\n",
       " \"http://www.w3.org/Graphics/SVG/1.1/DTD/svg11.dtd\">\n",
       "<!-- Generated by graphviz version 10.0.1 (20240210.2158)\n",
       " -->\n",
       "<!-- Pages: 1 -->\n",
       "<svg width=\"81pt\" height=\"140pt\"\n",
       " viewBox=\"0.00 0.00 81.00 139.75\" xmlns=\"http://www.w3.org/2000/svg\" xmlns:xlink=\"http://www.w3.org/1999/xlink\">\n",
       "<g id=\"graph0\" class=\"graph\" transform=\"scale(1 1) rotate(0) translate(4 135.75)\">\n",
       "<polygon fill=\"white\" stroke=\"none\" points=\"-4,4 -4,-135.75 77,-135.75 77,4 -4,4\"/>\n",
       "<!-- 0 -->\n",
       "<g id=\"node1\" class=\"node\">\n",
       "<title>0</title>\n",
       "<ellipse fill=\"none\" stroke=\"black\" cx=\"27\" cy=\"-113.75\" rx=\"27\" ry=\"18\"/>\n",
       "<text text-anchor=\"middle\" x=\"27\" y=\"-108.33\" font-family=\"Times New Roman,serif\" font-size=\"14.00\">0</text>\n",
       "</g>\n",
       "<!-- 1 -->\n",
       "<g id=\"node2\" class=\"node\">\n",
       "<title>1</title>\n",
       "<ellipse fill=\"none\" stroke=\"black\" cx=\"27\" cy=\"-22\" rx=\"18\" ry=\"18\"/>\n",
       "<ellipse fill=\"none\" stroke=\"black\" cx=\"27\" cy=\"-22\" rx=\"22\" ry=\"22\"/>\n",
       "<text text-anchor=\"middle\" x=\"27\" y=\"-16.57\" font-family=\"Times New Roman,serif\" font-size=\"14.00\">1</text>\n",
       "</g>\n",
       "<!-- 0&#45;&gt;1 -->\n",
       "<g id=\"edge1\" class=\"edge\">\n",
       "<title>0&#45;&gt;1</title>\n",
       "<path fill=\"none\" stroke=\"black\" d=\"M27,-95.45C27,-84.18 27,-69.12 27,-55.66\"/>\n",
       "<polygon fill=\"black\" stroke=\"black\" points=\"30.5,-55.88 27,-45.88 23.5,-55.88 30.5,-55.88\"/>\n",
       "<text text-anchor=\"middle\" x=\"30\" y=\"-64.45\" font-family=\"Times New Roman,serif\" font-size=\"14.00\">a</text>\n",
       "</g>\n",
       "<!-- 1&#45;&gt;1 -->\n",
       "<g id=\"edge2\" class=\"edge\">\n",
       "<title>1&#45;&gt;1</title>\n",
       "<path fill=\"none\" stroke=\"black\" d=\"M47.58,-30.71C57.84,-31.92 67,-29.01 67,-22 67,-17.84 63.77,-15.12 59,-13.85\"/>\n",
       "<polygon fill=\"black\" stroke=\"black\" points=\"59.25,-10.36 49.09,-13.36 58.91,-17.35 59.25,-10.36\"/>\n",
       "<text text-anchor=\"middle\" x=\"70\" y=\"-16.57\" font-family=\"Times New Roman,serif\" font-size=\"14.00\">a</text>\n",
       "</g>\n",
       "</g>\n",
       "</svg>\n"
      ],
      "text/plain": [
       "<graphviz.graphs.Digraph at 0x218af340940>"
      ]
     },
     "execution_count": 19,
     "metadata": {},
     "output_type": "execute_result"
    }
   ],
   "source": [
    "from graphviz import Digraph\n",
    "\n",
    "\n",
    "\n",
    "# Create a new Digraph object\n",
    "dot = Digraph()\n",
    "for node in all_states_dic.values():\n",
    "    print(final_dict[node][\"isTerminatingState\"])\n",
    "    if final_dict[node][\"isTerminatingState\"]==True:\n",
    "       \n",
    "        dot.node(str(node), shape= \"doublecircle\")\n",
    "    else:\n",
    "        dot.node(str(node))\n",
    "\n",
    "\n",
    "for state in all_states_dic:\n",
    "    value=final_dict.get(all_states_dic[state])\n",
    "    for a_trans,dests in value.items():\n",
    "        if a_trans==\"isTerminatingState\":continue\n",
    "        for dest in dests:\n",
    "            print(all_states_dic[state], str(dest), a_trans)\n",
    "            dot.edge(str(all_states_dic[state]),str(dest),label=a_trans)\n",
    "            # if value == dest:\n",
    "            #     dot.edge(value, value, label=a_trans + \" (self-loop)\")\n",
    "\n",
    "\n",
    "# Render the graph into an image file\n",
    "dot.render('graph_from_array', format='png', cleanup=True)\n",
    "\n",
    "# # Display the graph\n",
    "dot\n"
   ]
  },
  {
   "cell_type": "code",
   "execution_count": 20,
   "metadata": {},
   "outputs": [
    {
     "name": "stdout",
     "output_type": "stream",
     "text": [
      "None\n"
     ]
    }
   ],
   "source": [
    "print(all_states_dic.get(\"hell\"))"
   ]
  }
 ],
 "metadata": {
  "kernelspec": {
   "display_name": "base",
   "language": "python",
   "name": "python3"
  },
  "language_info": {
   "codemirror_mode": {
    "name": "ipython",
    "version": 3
   },
   "file_extension": ".py",
   "mimetype": "text/x-python",
   "name": "python",
   "nbconvert_exporter": "python",
   "pygments_lexer": "ipython3",
   "version": "3.9.18"
  }
 },
 "nbformat": 4,
 "nbformat_minor": 2
}
