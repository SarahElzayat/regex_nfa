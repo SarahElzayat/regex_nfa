{
 "cells": [
  {
   "cell_type": "code",
   "execution_count": 54,
   "metadata": {},
   "outputs": [],
   "source": [
    "import json\n",
    "from queue import Queue\n",
    "import networkx as nx\n",
    "import matplotlib.pyplot as plt"
   ]
  },
  {
   "cell_type": "code",
   "execution_count": 55,
   "metadata": {},
   "outputs": [
    {
     "name": "stdout",
     "output_type": "stream",
     "text": [
      "{'startingState': '0', '0': {'isTerminatingState': False, 'a': ['1']}, '1': {'isTerminatingState': False, 'b': ['2']}, '2': {'isTerminatingState': False, 'b': ['3'], 'c': ['4'], 'd': ['5']}, '3': {'isTerminatingState': False, 'b': ['3'], 'c': ['4'], 'd': ['5']}, '4': {'isTerminatingState': False, 'b': ['3'], 'c': ['4'], 'd': ['5']}, '5': {'isTerminatingState': True, 'd': ['5']}}\n"
     ]
    }
   ],
   "source": [
    "# Open the JSON file\n",
    "with open('dfa.json', 'r',encoding=\"utf-8\") as file:\n",
    "    # Load JSON data from the file\n",
    "    data = json.load(file)\n",
    "\n",
    "print(data)"
   ]
  },
  {
   "cell_type": "code",
   "execution_count": 56,
   "metadata": {},
   "outputs": [
    {
     "name": "stdout",
     "output_type": "stream",
     "text": [
      "['5']\n",
      "['0', '1', '2', '3', '4']\n",
      "['5']\n",
      "['0', '1', '2', '3', '4']\n"
     ]
    }
   ],
   "source": [
    "all_groups=Queue()\n",
    "terminating=[]\n",
    "non_terminating=[]\n",
    "for state,value in data.items():\n",
    "    if state==\"startingState\":continue\n",
    "    if value.get(\"isTerminatingState\")==True:\n",
    "        terminating.append(state)\n",
    "    else:\n",
    "        non_terminating.append(state)\n",
    "terminating.sort()\n",
    "non_terminating.sort()\n",
    "all_groups.put(terminating)\n",
    "all_groups.put(non_terminating)\n",
    "print(terminating)\n",
    "print(non_terminating)\n",
    "for el in all_groups.queue:\n",
    "    print(el)"
   ]
  },
  {
   "cell_type": "code",
   "execution_count": 57,
   "metadata": {},
   "outputs": [
    {
     "name": "stdout",
     "output_type": "stream",
     "text": [
      "{'d', 'b', 'c', 'a'}\n"
     ]
    }
   ],
   "source": [
    "all_pos_trans=set()       \n",
    "for state,value in data.items():\n",
    "    if state in [\"startingState\"]:continue\n",
    "    for trans in value.keys():\n",
    "        if trans in [\"isTerminatingState\",\"ε\"]:continue\n",
    "        all_pos_trans.add(trans)\n",
    "print(all_pos_trans)\n"
   ]
  },
  {
   "cell_type": "code",
   "execution_count": 58,
   "metadata": {},
   "outputs": [
    {
     "name": "stdout",
     "output_type": "stream",
     "text": [
      "deque([['5'], ['0', '1', '2', '3', '4']])\n",
      "(None,)\n"
     ]
    }
   ],
   "source": [
    "def get_destination_group(state):\n",
    "    for group in all_groups.queue:\n",
    "        if state in group:\n",
    "            return group\n",
    "    return [None]\n",
    "print(all_groups.queue)\n",
    "print(tuple(get_destination_group(\"f\")))"
   ]
  },
  {
   "cell_type": "code",
   "execution_count": 59,
   "metadata": {},
   "outputs": [
    {
     "name": "stdout",
     "output_type": "stream",
     "text": [
      "deque([['5'], ['0', '1', '2', '3', '4']])\n",
      "deque([['5'], ['0', '1', '2', '3', '4']])\n",
      "deque([['0', '1', '2', '3', '4'], ['5']])\n",
      "deque([['5'], ['2', '3', '4'], ['0', '1']])\n",
      "deque([['2', '3', '4'], ['0', '1'], ['5']])\n",
      "deque([['0', '1'], ['5'], ['2', '3', '4']])\n",
      "deque([['5'], ['2', '3', '4'], ['1'], ['0']])\n",
      "deque([['2', '3', '4'], ['1'], ['0'], ['5']])\n",
      "deque([['1'], ['0'], ['5'], ['2', '3', '4']])\n",
      "deque([['0'], ['5'], ['2', '3', '4'], ['1']])\n",
      "deque([['5'], ['2', '3', '4'], ['1'], ['0']])\n",
      "deque([['5'], ['2', '3', '4'], ['1'], ['0']])\n"
     ]
    }
   ],
   "source": [
    "count=0\n",
    "to_stop=0\n",
    "print(all_groups.queue)\n",
    "# for group in all_groups.queue:\n",
    "while not all_groups.empty():\n",
    "    print(all_groups.queue)\n",
    "    if count ==all_groups.qsize():\n",
    "        break\n",
    "    state_newGroup=[]\n",
    "    new_groups=set()\n",
    "    split=False\n",
    "    \n",
    "    group=all_groups.get()\n",
    "   \n",
    "    if len(group)<=1:\n",
    "        count+=1\n",
    "        all_groups.put(group)\n",
    "        continue\n",
    "\n",
    "    break_for_split=False\n",
    "    #for each poss trans\n",
    "    for poss_trans in all_pos_trans:\n",
    "        if break_for_split==True:\n",
    "            break\n",
    "        dest_group_stand=None\n",
    "        state_newGroup=[]\n",
    "        for state in group:  \n",
    "            #if state does not have this trans --->[]\n",
    "            if poss_trans not in data.get(state).keys():\n",
    "                dest_group=[]\n",
    "                \n",
    "            #if state does have this trans            \n",
    "            else:\n",
    "                #if group exists----->group\n",
    "                #if same groupe----->[none]\n",
    "                dest_state =data.get(state).get(poss_trans)[0]  \n",
    "                dest_group=get_destination_group(dest_state)\n",
    "                \n",
    "            #there is a destination available and not me\n",
    "            state_newGroup.append((state,tuple(dest_group)))\n",
    "            new_groups.add(tuple(dest_group))\n",
    "            if dest_group_stand==None:\n",
    "                dest_group_stand=tuple(dest_group)\n",
    "            elif dest_group_stand!=tuple(dest_group):\n",
    "                split=True\n",
    "                count=0\n",
    "                        \n",
    " \n",
    "        # if split==False:#no split in the group\n",
    "        #     count+=1\n",
    "        #     # print(\"bef \",all_groups.queue)\n",
    "        #     all_groups.put(group)\n",
    "        #     # print(\"aft \",all_groups.queue)\n",
    "\n",
    "        # if there is a split so we need to redo the loop\n",
    "        if split==True:\n",
    "            count=0\n",
    "            \n",
    "            # print(group)\n",
    "            #adjust groups in loop\n",
    "            for newGroup in new_groups:\n",
    "                # print(\"new group \",newGroup)\n",
    "                arr=[]\n",
    "                for stat in group:\n",
    "                    # print(\"stat \",stat)\n",
    "                    if (stat,newGroup) in state_newGroup:#this state goes to this new grouping\n",
    "                        arr.append(stat)\n",
    "                        \n",
    "                arr.sort()\n",
    "                # print(\"allbef\",all_groups.queue)\n",
    "                if arr not in all_groups.queue and len(arr)>0: #\n",
    "                    all_groups.put(arr)\n",
    "                # print(\"allaf\",all_groups.queue)\n",
    "            break_for_split=True\n",
    "\n",
    "    if break_for_split==False:\n",
    "        count+=1\n",
    "        all_groups.put(group)\n",
    "           \n",
    "\n",
    "\n",
    "\n",
    "\n",
    "print(all_groups.queue)\n"
   ]
  },
  {
   "cell_type": "code",
   "execution_count": 60,
   "metadata": {},
   "outputs": [],
   "source": [
    "def is_terminal(group):\n",
    "    for state in group:\n",
    "        if state in terminating:\n",
    "            return True\n",
    "    return False"
   ]
  },
  {
   "cell_type": "code",
   "execution_count": 61,
   "metadata": {},
   "outputs": [],
   "source": [
    "def get_new_group(stat):\n",
    "    for group in all_groups.queue:\n",
    "        if stat in group:\n",
    "            return group"
   ]
  },
  {
   "cell_type": "code",
   "execution_count": 62,
   "metadata": {},
   "outputs": [
    {
     "name": "stdout",
     "output_type": "stream",
     "text": [
      "{'5': '5', '2': '2', '3': '2', '4': '2', '1': '1', '0': '0'}\n",
      "deque([['5'], ['2', '3', '4'], ['1'], ['0']])\n"
     ]
    }
   ],
   "source": [
    "data2=data.copy()\n",
    "refrence_dic={}\n",
    "for grouping in all_groups.queue:\n",
    "\n",
    "    for state in grouping:\n",
    "      refrence_dic[state]=grouping[0]\n",
    "\n",
    "print(refrence_dic)\n",
    "print(all_groups.queue)"
   ]
  },
  {
   "cell_type": "code",
   "execution_count": 72,
   "metadata": {},
   "outputs": [
    {
     "name": "stdout",
     "output_type": "stream",
     "text": [
      "{'0': {'isTerminatingState': False, 'a': '1'}, '1': {'isTerminatingState': False, 'b': '2'}, '2': {'isTerminatingState': False, 'b': '2', 'c': '2', 'd': '5'}, '5': {'isTerminatingState': True, 'd': '5'}}\n"
     ]
    }
   ],
   "source": [
    "\n",
    "min_dfa={}\n",
    "for key , val in data.items():\n",
    "      if key ==\"startingState\":continue\n",
    "      min_dfa[refrence_dic[key]]={\n",
    "         \"isTerminatingState\":is_terminal(get_new_group(key)),        \n",
    "      } \n",
    "      for trans,dests in val.items():\n",
    "         if trans==\"isTerminatingState\":continue\n",
    "         min_dfa[refrence_dic[key]][trans]=refrence_dic[dests[0]]\n",
    " \n",
    "print(min_dfa)\n",
    "with open(\"dfa_min.json\", \"w\") as json_file:\n",
    "    json.dump(min_dfa, json_file, indent=4)\n"
   ]
  },
  {
   "cell_type": "code",
   "execution_count": 74,
   "metadata": {},
   "outputs": [
    {
     "data": {
      "image/svg+xml": [
       "<?xml version=\"1.0\" encoding=\"UTF-8\" standalone=\"no\"?>\n",
       "<!DOCTYPE svg PUBLIC \"-//W3C//DTD SVG 1.1//EN\"\n",
       " \"http://www.w3.org/Graphics/SVG/1.1/DTD/svg11.dtd\">\n",
       "<!-- Generated by graphviz version 10.0.1 (20240210.2158)\n",
       " -->\n",
       "<!-- Pages: 1 -->\n",
       "<svg width=\"112pt\" height=\"315pt\"\n",
       " viewBox=\"0.00 0.00 112.25 315.25\" xmlns=\"http://www.w3.org/2000/svg\" xmlns:xlink=\"http://www.w3.org/1999/xlink\">\n",
       "<g id=\"graph0\" class=\"graph\" transform=\"scale(1 1) rotate(0) translate(4 311.25)\">\n",
       "<polygon fill=\"white\" stroke=\"none\" points=\"-4,4 -4,-311.25 108.25,-311.25 108.25,4 -4,4\"/>\n",
       "<!-- 0 -->\n",
       "<g id=\"node1\" class=\"node\">\n",
       "<title>0</title>\n",
       "<ellipse fill=\"none\" stroke=\"black\" cx=\"27\" cy=\"-289.25\" rx=\"27\" ry=\"18\"/>\n",
       "<text text-anchor=\"middle\" x=\"27\" y=\"-283.82\" font-family=\"Times New Roman,serif\" font-size=\"14.00\">0</text>\n",
       "</g>\n",
       "<!-- 1 -->\n",
       "<g id=\"node2\" class=\"node\">\n",
       "<title>1</title>\n",
       "<ellipse fill=\"none\" stroke=\"black\" cx=\"27\" cy=\"-201.5\" rx=\"27\" ry=\"18\"/>\n",
       "<text text-anchor=\"middle\" x=\"27\" y=\"-196.07\" font-family=\"Times New Roman,serif\" font-size=\"14.00\">1</text>\n",
       "</g>\n",
       "<!-- 0&#45;&gt;1 -->\n",
       "<g id=\"edge1\" class=\"edge\">\n",
       "<title>0&#45;&gt;1</title>\n",
       "<path fill=\"none\" stroke=\"black\" d=\"M27,-270.9C27,-259.51 27,-244.34 27,-231.18\"/>\n",
       "<polygon fill=\"black\" stroke=\"black\" points=\"30.5,-231.34 27,-221.34 23.5,-231.34 30.5,-231.34\"/>\n",
       "<text text-anchor=\"middle\" x=\"30\" y=\"-239.95\" font-family=\"Times New Roman,serif\" font-size=\"14.00\">a</text>\n",
       "</g>\n",
       "<!-- 2 -->\n",
       "<g id=\"node3\" class=\"node\">\n",
       "<title>2</title>\n",
       "<ellipse fill=\"none\" stroke=\"black\" cx=\"27\" cy=\"-113.75\" rx=\"27\" ry=\"18\"/>\n",
       "<text text-anchor=\"middle\" x=\"27\" y=\"-108.33\" font-family=\"Times New Roman,serif\" font-size=\"14.00\">2</text>\n",
       "</g>\n",
       "<!-- 1&#45;&gt;2 -->\n",
       "<g id=\"edge2\" class=\"edge\">\n",
       "<title>1&#45;&gt;2</title>\n",
       "<path fill=\"none\" stroke=\"black\" d=\"M27,-183.15C27,-171.76 27,-156.59 27,-143.43\"/>\n",
       "<polygon fill=\"black\" stroke=\"black\" points=\"30.5,-143.59 27,-133.59 23.5,-143.59 30.5,-143.59\"/>\n",
       "<text text-anchor=\"middle\" x=\"30.75\" y=\"-152.2\" font-family=\"Times New Roman,serif\" font-size=\"14.00\">b</text>\n",
       "</g>\n",
       "<!-- 2&#45;&gt;2 -->\n",
       "<g id=\"edge3\" class=\"edge\">\n",
       "<title>2&#45;&gt;2</title>\n",
       "<path fill=\"none\" stroke=\"black\" d=\"M53.79,-117.85C63.78,-117.99 72,-116.62 72,-113.75 72,-112.09 69.25,-110.93 65.01,-110.28\"/>\n",
       "<polygon fill=\"black\" stroke=\"black\" points=\"65.49,-106.8 55.31,-109.73 65.09,-113.79 65.49,-106.8\"/>\n",
       "<text text-anchor=\"middle\" x=\"75.75\" y=\"-108.33\" font-family=\"Times New Roman,serif\" font-size=\"14.00\">b</text>\n",
       "</g>\n",
       "<!-- 2&#45;&gt;2 -->\n",
       "<g id=\"edge4\" class=\"edge\">\n",
       "<title>2&#45;&gt;2</title>\n",
       "<path fill=\"none\" stroke=\"black\" d=\"M52.23,-121C71.04,-123.54 90,-121.12 90,-113.75 90,-107.88 77.96,-105.15 63.55,-105.56\"/>\n",
       "<polygon fill=\"black\" stroke=\"black\" points=\"63.42,-102.06 53.74,-106.37 63.99,-109.04 63.42,-102.06\"/>\n",
       "<text text-anchor=\"middle\" x=\"93.38\" y=\"-108.33\" font-family=\"Times New Roman,serif\" font-size=\"14.00\">c</text>\n",
       "</g>\n",
       "<!-- 5 -->\n",
       "<g id=\"node4\" class=\"node\">\n",
       "<title>5</title>\n",
       "<ellipse fill=\"none\" stroke=\"black\" cx=\"27\" cy=\"-22\" rx=\"18\" ry=\"18\"/>\n",
       "<ellipse fill=\"none\" stroke=\"black\" cx=\"27\" cy=\"-22\" rx=\"22\" ry=\"22\"/>\n",
       "<text text-anchor=\"middle\" x=\"27\" y=\"-16.57\" font-family=\"Times New Roman,serif\" font-size=\"14.00\">5</text>\n",
       "</g>\n",
       "<!-- 2&#45;&gt;5 -->\n",
       "<g id=\"edge5\" class=\"edge\">\n",
       "<title>2&#45;&gt;5</title>\n",
       "<path fill=\"none\" stroke=\"black\" d=\"M27,-95.45C27,-84.18 27,-69.12 27,-55.66\"/>\n",
       "<polygon fill=\"black\" stroke=\"black\" points=\"30.5,-55.88 27,-45.88 23.5,-55.88 30.5,-55.88\"/>\n",
       "<text text-anchor=\"middle\" x=\"30.75\" y=\"-64.45\" font-family=\"Times New Roman,serif\" font-size=\"14.00\">d</text>\n",
       "</g>\n",
       "<!-- 5&#45;&gt;5 -->\n",
       "<g id=\"edge6\" class=\"edge\">\n",
       "<title>5&#45;&gt;5</title>\n",
       "<path fill=\"none\" stroke=\"black\" d=\"M47.58,-30.71C57.84,-31.92 67,-29.01 67,-22 67,-17.84 63.77,-15.12 59,-13.85\"/>\n",
       "<polygon fill=\"black\" stroke=\"black\" points=\"59.25,-10.36 49.09,-13.36 58.91,-17.35 59.25,-10.36\"/>\n",
       "<text text-anchor=\"middle\" x=\"70.75\" y=\"-16.57\" font-family=\"Times New Roman,serif\" font-size=\"14.00\">d</text>\n",
       "</g>\n",
       "</g>\n",
       "</svg>\n"
      ],
      "text/plain": [
       "<graphviz.graphs.Digraph at 0x1f8ba4af340>"
      ]
     },
     "execution_count": 74,
     "metadata": {},
     "output_type": "execute_result"
    }
   ],
   "source": [
    "# Create a new Digraph object\n",
    "from graphviz import Digraph\n",
    "\n",
    "\n",
    "\n",
    "dot = Digraph()\n",
    "for node in min_dfa.keys():\n",
    "    if min_dfa[node][\"isTerminatingState\"]==True:\n",
    "       \n",
    "        dot.node(str(node), shape= \"doublecircle\")\n",
    "    else:\n",
    "        dot.node(str(node))\n",
    "\n",
    "\n",
    "for state,value in min_dfa.items():\n",
    "  \n",
    "    for a_trans,dest in value.items():\n",
    "        if a_trans==\"isTerminatingState\":continue\n",
    "        \n",
    "        \n",
    "        dot.edge(state,dest,label=a_trans)\n",
    "        # if value == dest:\n",
    "        #     dot.edge(value, value, label=a_trans + \" (self-loop)\")\n",
    "\n",
    "\n",
    "# Render the graph into an image file\n",
    "dot.render('min_graph_from_array', format='png', cleanup=True)\n",
    "\n",
    "# # Display the graph\n",
    "dot\n"
   ]
  }
 ],
 "metadata": {
  "kernelspec": {
   "display_name": "base",
   "language": "python",
   "name": "python3"
  },
  "language_info": {
   "codemirror_mode": {
    "name": "ipython",
    "version": 3
   },
   "file_extension": ".py",
   "mimetype": "text/x-python",
   "name": "python",
   "nbconvert_exporter": "python",
   "pygments_lexer": "ipython3",
   "version": "3.9.18"
  }
 },
 "nbformat": 4,
 "nbformat_minor": 2
}
