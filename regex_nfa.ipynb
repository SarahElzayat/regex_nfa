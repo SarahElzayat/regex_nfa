{
 "cells": [
  {
   "cell_type": "code",
   "execution_count": 22,
   "metadata": {},
   "outputs": [],
   "source": [
    "# input from user\n",
    "# regex = input(\"Enter your regex: \")\n",
    "\n",
    "operators = {\n",
    "    \"+\",\n",
    "    \"*\",\n",
    "    \"(\",\n",
    "    \")\",\n",
    "    \"|\",\n",
    "    \".\",\n",
    "    \"[\",\n",
    "    \"]\",\n",
    "    \"?\",\n",
    "}"
   ]
  },
  {
   "cell_type": "code",
   "execution_count": 23,
   "metadata": {},
   "outputs": [],
   "source": [
    "# a-z A-z 0-9\n",
    "alpha_numerics = set(\n",
    "    [chr(i) for i in range(48, 58)]\n",
    "    + [chr(i) for i in range(65, 91)]\n",
    "    + [chr(i) for i in range(97, 123)]\n",
    ")"
   ]
  },
  {
   "cell_type": "code",
   "execution_count": 24,
   "metadata": {},
   "outputs": [],
   "source": [
    "def is_valid_regex(in_regex):\n",
    "    return (\n",
    "        all([c in alpha_numerics or c in operators for c in in_regex])\n",
    "        and in_regex.count(\"(\") == in_regex.count(\")\")\n",
    "        and in_regex.count(\"[\") == in_regex.count(\"]\")\n",
    "    )"
   ]
  },
  {
   "cell_type": "code",
   "execution_count": 25,
   "metadata": {},
   "outputs": [
    {
     "data": {
      "text/plain": [
       "True"
      ]
     },
     "execution_count": 25,
     "metadata": {},
     "output_type": "execute_result"
    }
   ],
   "source": [
    "is_valid_regex(\"(regex][)\")"
   ]
  },
  {
   "cell_type": "code",
   "execution_count": 82,
   "metadata": {},
   "outputs": [
    {
     "name": "stdout",
     "output_type": "stream",
     "text": [
      "False\n"
     ]
    }
   ],
   "source": [
    "# precedence from highest to lowest\n",
    "# Closure (Kleene star) a*\n",
    "# Concatenation ab\n",
    "# Union a+b\n",
    "# If the input symbol is a letter… append it directly to the output queue\n",
    "\n",
    "# If the input symbol is an operator… if there exists an operator already on the top of the operator stack with higher\n",
    "# or equal precedence than our current input symbol, remove the operator from the top of the operator stack and append it\n",
    "# to the output queue.\n",
    "# Do this until the current input symbol has a higher precedence than the symbol on the top of the operator stack,\n",
    "# or the operator stack is empty.\n",
    "# If the input symbol is an operator AND there is a left parenthesis on top of the stack… append the input symbol onto\n",
    "# the stack on top of the left parenthesis.\n",
    "# If the input symbol is an ( … append it to the operator stack\n",
    "# If the input symbol is an ) … pop all operators from the operator stack and append them to the output queue\n",
    "# until you find an ( . Then, you can remove both of those parentheses and continue with the algorithm.\n",
    "operators_precedence = {\n",
    "    \"*\": 5,\n",
    "    \"+\": 4,\n",
    "    \"?\": 3,\n",
    "    \".\": 2,\n",
    "    \"|\": 1,\n",
    "}\n",
    "\n",
    "\n",
    "def regex_to_postfix(regex):\n",
    "    regex = list(regex)\n",
    "    stack = []\n",
    "    output_queue = []\n",
    "    index = 0\n",
    "    while index < len(regex):\n",
    "        char = regex[index]\n",
    "\n",
    "        if char in alpha_numerics:\n",
    "            output_queue.append(char)\n",
    "\n",
    "        elif char in operators:\n",
    "            if char == \"[\":\n",
    "                # if no matching closing parenthesis\n",
    "                if not \"]\" in regex[index:]:\n",
    "                    return False\n",
    "\n",
    "                else:\n",
    "\n",
    "                    closing_index = regex[index:].index(\"]\")\n",
    "                    index_range = index + 1\n",
    "                    index = closing_index\n",
    "                    # for index_range in range(index + 1, closing_index):\n",
    "                    while index_range < closing_index:\n",
    "\n",
    "                        char_range = regex[index_range]\n",
    "\n",
    "                        if char_range in alpha_numerics:\n",
    "                            next_char = regex[index_range + 1]\n",
    "                            if next_char == \"]\":\n",
    "                                # output_queue.append(\"|\")\n",
    "                                output_queue.append(char_range)\n",
    "                                break\n",
    "\n",
    "                            elif next_char in alpha_numerics:\n",
    "                                output_queue.append(char_range)\n",
    "                                output_queue.append(\"|\")\n",
    "                                index_range += 1\n",
    "                            elif next_char == \"-\":\n",
    "                                end_range = regex[index_range + 2]\n",
    "                                index_range += 2\n",
    "                                if not end_range in alpha_numerics or ord(\n",
    "                                    end_range\n",
    "                                ) < ord(char_range):\n",
    "                                    return False\n",
    "\n",
    "                                to_append = char_range\n",
    "                                while to_append != end_range:\n",
    "                                    if to_append not in alpha_numerics:  # like if A-a\n",
    "                                        return False\n",
    "                                    output_queue.append(to_append)\n",
    "                                    output_queue.append(\"|\")\n",
    "                                    to_append = chr(ord(to_append) + 1)\n",
    "                                    # index_range += 1\n",
    "                                else:\n",
    "                                    # to_append = char(int(to_append) + 1)\n",
    "                                    output_queue.append(to_append)\n",
    "                                    index_range += 1\n",
    "                        elif (\n",
    "                            char_range == \"-\"\n",
    "                            or char_range in operators_precedence.keys()\n",
    "                        ):\n",
    "                            return False\n",
    "                        else:\n",
    "                            index_range += 1\n",
    "\n",
    "            if stack:\n",
    "                if (\n",
    "                    stack[-1] in operators_precedence.keys()\n",
    "                    and char in operators_precedence.keys()\n",
    "                ):\n",
    "                    # print(\"aho\")\n",
    "                    while (\n",
    "                        stack\n",
    "                        and stack[-1] in operators_precedence.keys()\n",
    "                        and operators_precedence[stack[-1]]\n",
    "                        >= operators_precedence[char]\n",
    "                    ):\n",
    "\n",
    "                        output_queue.append(stack.pop())\n",
    "\n",
    "                    stack.append(char)\n",
    "\n",
    "                elif char in operators_precedence.keys() and stack[-1] == \"(\":\n",
    "                    stack.append(char)\n",
    "                elif char == \"(\":\n",
    "                    stack.append(char)\n",
    "                elif char == \")\":\n",
    "                    while stack and stack[-1] != \"(\":\n",
    "                        output_queue.append(stack.pop())\n",
    "                    else:\n",
    "                        if stack[-1] == \"(\":\n",
    "                            stack.pop()\n",
    "                        else:\n",
    "                            return False\n",
    "\n",
    "            elif char != \"[\" and char != \"]\":\n",
    "                stack.append(char)\n",
    "        index += 1\n",
    "    if \"(\" in stack or \")\" in stack:\n",
    "        return False\n",
    "    while stack:\n",
    "        top = stack[-1]\n",
    "        if top == \"(\":\n",
    "            return False\n",
    "        output_queue.append(stack.pop())\n",
    "    return output_queue\n",
    "\n",
    "\n",
    "# regex = \"(A+.B*)?.(C|D)\"\n",
    "# regex = \"[xA-c09]\"\n",
    "regex = \"[C-a]\"\n",
    "\n",
    "# if regex_to_postfix(regex) == False:\n",
    "print(regex_to_postfix(regex))\n",
    "# else:\n",
    "#     print(\"tmam\")\n",
    "\n",
    "# regex\n",
    "# operators_precedence.keys()"
   ]
  },
  {
   "cell_type": "code",
   "execution_count": null,
   "metadata": {},
   "outputs": [],
   "source": [
    "# Algorithm\n",
    "# ( -> push to stack\n",
    "# Alphanumeric -> append to output queue\n",
    "# operator\n",
    "# {\n",
    "#     \"*\" : 5,\n",
    "#     \"+\" : 4,\n",
    "#     \"?\" : 3,\n",
    "#     \".\" : 2,\n",
    "#     \"|\" : 1\n",
    "# }\n",
    "# [abc] -> a | b | c\n",
    "# ) -> pop from stack until you find (\n",
    "# ranges -"
   ]
  },
  {
   "cell_type": "code",
   "execution_count": null,
   "metadata": {},
   "outputs": [],
   "source": []
  },
  {
   "cell_type": "code",
   "execution_count": null,
   "metadata": {},
   "outputs": [
    {
     "data": {
      "text/plain": [
       "'\\ntest cases\\n+++ -> invalid\\n[a]\\n'"
      ]
     },
     "execution_count": 10,
     "metadata": {},
     "output_type": "execute_result"
    }
   ],
   "source": [
    "\"\"\"\n",
    "test cases\n",
    "+++ -> invalid\n",
    "\"[a-cA-c09]\"\n",
    "\n",
    "\"\"\""
   ]
  },
  {
   "cell_type": "code",
   "execution_count": null,
   "metadata": {},
   "outputs": [
    {
     "name": "stdout",
     "output_type": "stream",
     "text": [
      "0\n",
      "1\n",
      "2\n",
      "3\n",
      "4\n",
      "5\n",
      "6\n",
      "7\n",
      "8\n",
      "9\n"
     ]
    }
   ],
   "source": [
    "for i in range(10):\n",
    "    print(i)\n",
    "    if i == 5:\n",
    "        i = 7"
   ]
  }
 ],
 "metadata": {
  "kernelspec": {
   "display_name": "base",
   "language": "python",
   "name": "python3"
  },
  "language_info": {
   "codemirror_mode": {
    "name": "ipython",
    "version": 3
   },
   "file_extension": ".py",
   "mimetype": "text/x-python",
   "name": "python",
   "nbconvert_exporter": "python",
   "pygments_lexer": "ipython3",
   "version": "3.9.18"
  }
 },
 "nbformat": 4,
 "nbformat_minor": 2
}
