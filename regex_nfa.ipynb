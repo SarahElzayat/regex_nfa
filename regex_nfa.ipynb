{
 "cells": [
  {
   "cell_type": "code",
   "execution_count": 34,
   "metadata": {},
   "outputs": [],
   "source": [
    "# input from user\n",
    "# regex = input(\"Enter your regex: \")\n",
    "\n",
    "operators = {\n",
    "    \"+\",\n",
    "    \"*\",\n",
    "    \"(\",\n",
    "    \")\",\n",
    "    \"|\",\n",
    "    \".\",\n",
    "    \"[\",\n",
    "    \"]\",\n",
    "    \"&\",\n",
    "}"
   ]
  },
  {
   "cell_type": "code",
   "execution_count": 35,
   "metadata": {},
   "outputs": [],
   "source": [
    "# a-z A-z 0-9\n",
    "alpha_numerics = set(\n",
    "    [chr(i) for i in range(48, 58)]\n",
    "    + [chr(i) for i in range(65, 91)]\n",
    "    + [chr(i) for i in range(97, 123)]\n",
    ")"
   ]
  },
  {
   "cell_type": "code",
   "execution_count": 36,
   "metadata": {},
   "outputs": [],
   "source": [
    "def is_valid_regex(in_regex):\n",
    "    return (\n",
    "        all([c in alpha_numerics or c in operators for c in in_regex])\n",
    "        and in_regex.count(\"(\") == in_regex.count(\")\")\n",
    "        and in_regex.count(\"[\") == in_regex.count(\"]\")\n",
    "    )"
   ]
  },
  {
   "cell_type": "code",
   "execution_count": 37,
   "metadata": {},
   "outputs": [
    {
     "data": {
      "text/plain": [
       "True"
      ]
     },
     "execution_count": 37,
     "metadata": {},
     "output_type": "execute_result"
    }
   ],
   "source": [
    "is_valid_regex(\"(regex][)\")"
   ]
  },
  {
   "cell_type": "code",
   "execution_count": 49,
   "metadata": {},
   "outputs": [
    {
     "name": "stdout",
     "output_type": "stream",
     "text": [
      "infix:  a&b&(a&b|(a|b)&a)\n",
      "postfix:  ab&ab&ab|a&|&\n"
     ]
    }
   ],
   "source": [
    "# precedence from highest to lowest\n",
    "# Closure (Kleene star) a*\n",
    "# Concatenation ab\n",
    "# Union a+b\n",
    "# If the input symbol is a letter… append it directly to the output queue\n",
    "# If the input symbol is an operator… if there exists an operator already on the top of the operator stack with higher\n",
    "\n",
    "# or equal precedence than our current input symbol, remove the operator from the top of the operator stack and append it\n",
    "\n",
    "# to the output queue.\n",
    "\n",
    "# Do this until the current input symbol has a higher precedence than the symbol on the top of the operator stack,\n",
    "\n",
    "# or the operator stack is empty.\n",
    "\n",
    "# If the input symbol is an operator AND there is a left parenthesis on top of the stack… append the input symbol onto\n",
    "\n",
    "# the stack on top of the left parenthesis.\n",
    "\n",
    "# If the input symbol is an ( … append it to the operator stack\n",
    "\n",
    "# If the input symbol is an ) … pop all operators from the operator stack and append them to the output queue\n",
    "\n",
    "# until you find an ( . Then, you can remove both of those parentheses and continue with the algorithm.\n",
    "\n",
    "operators_precedence = {\n",
    "    \"*\": 6,\n",
    "    \"&\": 5,\n",
    "    \"+\": 4,\n",
    "    \"?\": 3,\n",
    "    \".\": 2,\n",
    "    \"|\": 1,\n",
    "}\n",
    "\n",
    "\n",
    "def validate_range(range_regex):\n",
    "    valid_ranges = [range(48, 58), range(65, 91), range(97, 123)]\n",
    "    index = 1\n",
    "\n",
    "    while index < len(range_regex) - 1:\n",
    "        current_char = range_regex[index]\n",
    "\n",
    "        if current_char in alpha_numerics:\n",
    "            index += 1\n",
    "        elif current_char in operators_precedence.keys():\n",
    "            return False\n",
    "        elif current_char == \"-\":\n",
    "            prev_char = range_regex[index - 1]\n",
    "            next_char = range_regex[index + 1]\n",
    "            if not (\n",
    "                prev_char in alpha_numerics\n",
    "                and next_char in alpha_numerics\n",
    "                and ord(prev_char) < ord(next_char)\n",
    "                and any(\n",
    "                    [\n",
    "                        set(range(ord(prev_char), ord(next_char))).issubset(ranges)\n",
    "                        for ranges in valid_ranges\n",
    "                    ]\n",
    "                )\n",
    "            ):\n",
    "                return False\n",
    "            index += 2\n",
    "    return True\n",
    "\n",
    "\n",
    "def regex_to_postfix(regex):\n",
    "\n",
    "    regex = list(regex)\n",
    "    stack = []\n",
    "    output_queue = []\n",
    "    index = 0\n",
    "\n",
    "    while index < len(regex):\n",
    "        char = regex[index]\n",
    "\n",
    "        if char in alpha_numerics or len(char) > 1:\n",
    "            output_queue.append(char)\n",
    "\n",
    "        elif char in operators:\n",
    "            if char == \"[\":\n",
    "                # if no matching closing parenthesis\n",
    "                if not \"]\" in regex[index:]:\n",
    "                    return False\n",
    "\n",
    "                else:\n",
    "                    range_re = \"\".join(regex[index : regex.index(\"]\") + 1])\n",
    "                    if validate_range(range_re):\n",
    "                        output_queue.append(range_re)\n",
    "                        index = regex.index(\"]\") + 1\n",
    "                        continue\n",
    "                    return False\n",
    "                    # print(\"range_re\", range_re)\n",
    "\n",
    "            if stack:\n",
    "                if (\n",
    "                    stack[-1] in operators_precedence.keys()\n",
    "                    and char in operators_precedence.keys()\n",
    "                ):\n",
    "                    while (\n",
    "                        stack\n",
    "                        and stack[-1] in operators_precedence.keys()\n",
    "                        and operators_precedence[stack[-1]]\n",
    "                        >= operators_precedence[char]\n",
    "                    ):\n",
    "                        output_queue.append(stack.pop())\n",
    "\n",
    "                    stack.append(char)\n",
    "\n",
    "                elif char in operators_precedence.keys() and stack[-1] == \"(\":\n",
    "                    stack.append(char)\n",
    "\n",
    "                elif char == \"(\":\n",
    "                    stack.append(char)\n",
    "\n",
    "                elif char == \")\":\n",
    "                    while stack and stack[-1] != \"(\":\n",
    "                        output_queue.append(stack.pop())\n",
    "\n",
    "                    else:\n",
    "                        if stack[-1] == \"(\":\n",
    "                            stack.pop()\n",
    "                        else:\n",
    "                            return False\n",
    "\n",
    "            elif char != \"[\" and char != \"]\":\n",
    "                stack.append(char)\n",
    "\n",
    "        index += 1\n",
    "\n",
    "    if \"(\" in stack or \")\" in stack:\n",
    "        return False\n",
    "\n",
    "    while stack:\n",
    "        top = stack[-1]\n",
    "        if top == \"(\":\n",
    "            return False\n",
    "        output_queue.append(stack.pop())\n",
    "    return output_queue\n",
    "\n",
    "\n",
    "# lw char b3do char\n",
    "# lw char brdo bracket\n",
    "# lw * b3dha char aw ( [\n",
    "# lw + b3dha char aw ( [ => a+(bc) => a+.(b.c),\n",
    "# lw ] aw ) b3do char =>  a+([a-z]a) => a+.([a-z].a)\n",
    "\n",
    "\n",
    "def add_concatenation(regex):\n",
    "    regex = list(regex)\n",
    "\n",
    "    i = 1\n",
    "    while i < len(regex):\n",
    "        current_char = regex[i - 1]\n",
    "        next_char = regex[i]\n",
    "        if current_char == \"[\":\n",
    "            # skip to close\n",
    "            i = regex[i:].index(\"]\") + i + 1\n",
    "            continue\n",
    "        elif current_char in alpha_numerics:\n",
    "            if next_char in alpha_numerics or next_char in [\"[\", \"(\"]:\n",
    "                regex.insert(i, \"&\")\n",
    "                i += 2\n",
    "            else:\n",
    "                i += 1\n",
    "        elif current_char in [\"*\", \"+\"] and next_char in [\"[\", \"(\"]:\n",
    "            regex.insert(i, \"&\")\n",
    "            i += 2\n",
    "\n",
    "        elif current_char in [\"]\", \")\"] and next_char in alpha_numerics:\n",
    "            regex.insert(i, \"&\")\n",
    "            i += 2\n",
    "        else:\n",
    "            i += 1\n",
    "\n",
    "    return regex\n",
    "\n",
    "\n",
    "# regex = \"(A+.B*)?.(C|D)\"\n",
    "# regex = \"[xA-c09]\"\n",
    "# regex = \"ab+A*\"\n",
    "# regex = \"ab+[a-c1-0]*\"\n",
    "regex = \"ab(ab|(a|b)a)\"\n",
    "\n",
    "\n",
    "# print(\"\".join(regex_to_postfix(regex)))\n",
    "\n",
    "# regex = \"ab+A*\"\n",
    "# abA*+\n",
    "\n",
    "print(\"infix: \", \"\".join(add_concatenation(regex)))\n",
    "print(\"postfix: \", \"\".join(regex_to_postfix(add_concatenation(regex))))"
   ]
  },
  {
   "cell_type": "code",
   "execution_count": 39,
   "metadata": {},
   "outputs": [
    {
     "name": "stdout",
     "output_type": "stream",
     "text": [
      "abA*+\n"
     ]
    }
   ],
   "source": [
    "regex = \"ab+A*\"\n",
    "\n",
    "# ab*A+\n",
    "print(\"\".join(regex_to_postfix(regex)))"
   ]
  },
  {
   "cell_type": "code",
   "execution_count": 40,
   "metadata": {},
   "outputs": [
    {
     "data": {
      "text/plain": [
       "'ab+A*'"
      ]
     },
     "execution_count": 40,
     "metadata": {},
     "output_type": "execute_result"
    }
   ],
   "source": [
    "regex"
   ]
  },
  {
   "cell_type": "code",
   "execution_count": 41,
   "metadata": {},
   "outputs": [
    {
     "data": {
      "text/plain": [
       "'abA*+'"
      ]
     },
     "execution_count": 41,
     "metadata": {},
     "output_type": "execute_result"
    }
   ],
   "source": [
    "\"\".join(regex_to_postfix(regex))"
   ]
  },
  {
   "cell_type": "code",
   "execution_count": 42,
   "metadata": {},
   "outputs": [],
   "source": [
    "# Algorithm\n",
    "# ( -> push to stack\n",
    "# Alphanumeric -> append to output queue\n",
    "# operator\n",
    "# {\n",
    "#     \"*\" : 5,\n",
    "#     \"+\" : 4,\n",
    "#     \"?\" : 3,\n",
    "#     \".\" : 2,\n",
    "#     \"|\" : 1\n",
    "# }\n",
    "# [abc] -> a | b | c\n",
    "# ) -> pop from stack until you find (\n",
    "# ranges -"
   ]
  },
  {
   "cell_type": "code",
   "execution_count": 43,
   "metadata": {},
   "outputs": [],
   "source": [
    "#   new_range_regex = [\"(\"]\n",
    "#                     closing_index = regex[index:].index(\"]\") + index\n",
    "#                     index_range = index + 1\n",
    "\n",
    "#                     while index_range < closing_index:\n",
    "#                         char_range = regex[index_range]\n",
    "#                         if char_range in alpha_numerics:\n",
    "#                             next_char = regex[index_range + 1]\n",
    "#                             if next_char == \"]\":\n",
    "#                                 # new_range_regex.append(\"|\")\n",
    "#                                 new_range_regex.append(char_range)\n",
    "#                                 break\n",
    "\n",
    "#                             elif next_char in alpha_numerics:\n",
    "#                                 new_range_regex.append(char_range)\n",
    "#                                 new_range_regex.append(\"|\")\n",
    "#                                 index_range += 1\n",
    "\n",
    "#                             elif next_char == \"-\":\n",
    "#                                 end_range = regex[index_range + 2]\n",
    "#                                 index_range += 2\n",
    "\n",
    "#                                 if not end_range in alpha_numerics or ord(\n",
    "#                                     end_range\n",
    "#                                 ) < ord(char_range):\n",
    "#                                     return False\n",
    "\n",
    "#                                 to_append = char_range\n",
    "\n",
    "#                                 while to_append != end_range:\n",
    "\n",
    "#                                     if to_append not in alpha_numerics:  # like if A-a\n",
    "#                                         return False\n",
    "\n",
    "#                                     new_range_regex.append(to_append)\n",
    "#                                     new_range_regex.append(\"|\")\n",
    "#                                     to_append = chr(ord(to_append) + 1)\n",
    "\n",
    "#                                 else:\n",
    "#                                     new_range_regex.append(to_append)\n",
    "#                                     index_range += 1\n",
    "#                                     if regex[index_range] in alpha_numerics:\n",
    "#                                         new_range_regex.append(\"|\")\n",
    "\n",
    "#                         elif (\n",
    "#                             char_range == \"-\"\n",
    "#                             or char_range in operators_precedence.keys()\n",
    "#                         ):\n",
    "#                             return False\n",
    "\n",
    "#                         else:\n",
    "#                             index_range += 1\n",
    "\n",
    "#                     new_range_regex.append(\")\")\n",
    "#                     print(\n",
    "#                         \"NEW REGEX\",\n",
    "#                         # regex[:index],\n",
    "#                         new_range_regex,\n",
    "#                         # regex[closing_index + 1 :],\n",
    "#                         sep=\"\\n\",\n",
    "#                     )\n",
    "#                     regex = regex[:index] + new_range_regex + regex[closing_index + 1 :]\n",
    "#                     continue"
   ]
  },
  {
   "cell_type": "code",
   "execution_count": 44,
   "metadata": {},
   "outputs": [
    {
     "data": {
      "text/plain": [
       "True"
      ]
     },
     "execution_count": 44,
     "metadata": {},
     "output_type": "execute_result"
    }
   ],
   "source": [
    "validate_range(\"[a-b]\")"
   ]
  },
  {
   "cell_type": "code",
   "execution_count": 45,
   "metadata": {},
   "outputs": [
    {
     "data": {
      "text/plain": [
       "'\\ntest cases\\n+++ -> invalid\\n\"[a-cA-c09]\"\\n\\nab[a-c0-3]* -> bayza\\n\\n'"
      ]
     },
     "execution_count": 45,
     "metadata": {},
     "output_type": "execute_result"
    }
   ],
   "source": [
    "\"\"\"\n",
    "test cases\n",
    "+++ -> invalid\n",
    "\"[a-cA-c09]\"\n",
    "\n",
    "ab[a-c0-3]* -> bayza\n",
    "\n",
    "\"\"\""
   ]
  },
  {
   "cell_type": "code",
   "execution_count": null,
   "metadata": {},
   "outputs": [],
   "source": [
    "class node:\n",
    "    def __init__(\n",
    "        self,\n",
    "        start,\n",
    "    ):\n",
    "        self.value = value\n",
    "        self.next = None"
   ]
  },
  {
   "cell_type": "code",
   "execution_count": null,
   "metadata": {},
   "outputs": [],
   "source": []
  },
  {
   "cell_type": "code",
   "execution_count": null,
   "metadata": {},
   "outputs": [],
   "source": [
    "def postfix_to_nfa(regex):\n",
    "    pass"
   ]
  }
 ],
 "metadata": {
  "kernelspec": {
   "display_name": "base",
   "language": "python",
   "name": "python3"
  },
  "language_info": {
   "codemirror_mode": {
    "name": "ipython",
    "version": 3
   },
   "file_extension": ".py",
   "mimetype": "text/x-python",
   "name": "python",
   "nbconvert_exporter": "python",
   "pygments_lexer": "ipython3",
   "version": "3.9.18"
  }
 },
 "nbformat": 4,
 "nbformat_minor": 2
}
