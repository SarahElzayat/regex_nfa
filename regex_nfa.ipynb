{
 "cells": [
  {
   "cell_type": "code",
   "execution_count": 2,
   "metadata": {},
   "outputs": [],
   "source": [
    "# input from user\n",
    "# regex = input(\"Enter your regex: \")\n",
    "\n",
    "operators = {\n",
    "    \"+\",\n",
    "    \"*\",\n",
    "    \"(\",\n",
    "    \")\",\n",
    "    \"|\",\n",
    "    \".\",\n",
    "    \"[\",\n",
    "    \"]\",\n",
    "    \"?\",\n",
    "}"
   ]
  },
  {
   "cell_type": "code",
   "execution_count": 3,
   "metadata": {},
   "outputs": [],
   "source": [
    "# a-z A-z 0-9\n",
    "alpha_numerics = set(\n",
    "    [chr(i) for i in range(48, 58)]\n",
    "    + [chr(i) for i in range(65, 91)]\n",
    "    + [chr(i) for i in range(97, 123)]\n",
    ")"
   ]
  },
  {
   "cell_type": "code",
   "execution_count": 4,
   "metadata": {},
   "outputs": [],
   "source": [
    "def is_valid_regex(in_regex):\n",
    "    return (\n",
    "        all([c in alpha_numerics or c in operators for c in in_regex])\n",
    "        and in_regex.count(\"(\") == in_regex.count(\")\")\n",
    "        and in_regex.count(\"[\") == in_regex.count(\"]\")\n",
    "    )"
   ]
  },
  {
   "cell_type": "code",
   "execution_count": 5,
   "metadata": {},
   "outputs": [
    {
     "data": {
      "text/plain": [
       "True"
      ]
     },
     "execution_count": 5,
     "metadata": {},
     "output_type": "execute_result"
    }
   ],
   "source": [
    "is_valid_regex(\"(regex][)\")"
   ]
  },
  {
   "cell_type": "code",
   "execution_count": 75,
   "metadata": {},
   "outputs": [
    {
     "name": "stdout",
     "output_type": "stream",
     "text": [
      "False\n"
     ]
    }
   ],
   "source": [
    "# precedence from highest to lowest\n",
    "# Closure (Kleene star) a*\n",
    "# Concatenation ab\n",
    "# Union a+b\n",
    "# If the input symbol is a letter… append it directly to the output queue\n",
    "# If the input symbol is an operator… if there exists an operator already on the top of the operator stack with higher\n",
    "\n",
    "# or equal precedence than our current input symbol, remove the operator from the top of the operator stack and append it\n",
    "\n",
    "# to the output queue.\n",
    "\n",
    "# Do this until the current input symbol has a higher precedence than the symbol on the top of the operator stack,\n",
    "\n",
    "# or the operator stack is empty.\n",
    "\n",
    "# If the input symbol is an operator AND there is a left parenthesis on top of the stack… append the input symbol onto\n",
    "\n",
    "# the stack on top of the left parenthesis.\n",
    "\n",
    "# If the input symbol is an ( … append it to the operator stack\n",
    "\n",
    "# If the input symbol is an ) … pop all operators from the operator stack and append them to the output queue\n",
    "\n",
    "# until you find an ( . Then, you can remove both of those parentheses and continue with the algorithm.\n",
    "\n",
    "operators_precedence = {\n",
    "    \"*\": 5,\n",
    "    \"+\": 4,\n",
    "    \"?\": 3,\n",
    "    \".\": 2,\n",
    "    \"|\": 1,\n",
    "}\n",
    "\n",
    "\n",
    "def validate_range(range_regex):\n",
    "    valid_ranges = [range(48, 58), range(65, 91), range(97, 123)]\n",
    "    index = 1\n",
    "\n",
    "    while index < len(range_regex) - 1:\n",
    "        current_char = range_regex[index]\n",
    "\n",
    "        if current_char in alpha_numerics:\n",
    "            index += 1\n",
    "        elif current_char in operators_precedence.keys():\n",
    "            return False\n",
    "        elif current_char == \"-\":\n",
    "            prev_char = range_regex[index - 1]\n",
    "            next_char = range_regex[index + 1]\n",
    "            if not (\n",
    "                prev_char in alpha_numerics\n",
    "                and next_char in alpha_numerics\n",
    "                and ord(prev_char) < ord(next_char)\n",
    "                and any(\n",
    "                    [\n",
    "                        set(range(ord(prev_char), ord(next_char))).issubset(ranges)\n",
    "                        for ranges in valid_ranges\n",
    "                    ]\n",
    "                )\n",
    "            ):\n",
    "                return False\n",
    "            index += 2\n",
    "    return True\n",
    "\n",
    "\n",
    "def regex_to_postfix(regex):\n",
    "\n",
    "    regex = list(regex)\n",
    "    stack = []\n",
    "    output_queue = []\n",
    "    index = 0\n",
    "\n",
    "    while index < len(regex):\n",
    "        char = regex[index]\n",
    "\n",
    "        if char in alpha_numerics or len(char) > 1:\n",
    "            output_queue.append(char)\n",
    "\n",
    "        elif char in operators:\n",
    "            if char == \"[\":\n",
    "                # if no matching closing parenthesis\n",
    "                if not \"]\" in regex[index:]:\n",
    "                    return False\n",
    "\n",
    "                else:\n",
    "                    range_re = \"\".join(regex[index : regex.index(\"]\") + 1])\n",
    "                    if validate_range(range_re):\n",
    "                        output_queue.append(range_re)\n",
    "                        index = regex.index(\"]\") + 1\n",
    "                        continue\n",
    "                    return False\n",
    "                    # print(\"range_re\", range_re)\n",
    "\n",
    "            if stack:\n",
    "                if (\n",
    "                    stack[-1] in operators_precedence.keys()\n",
    "                    and char in operators_precedence.keys()\n",
    "                ):\n",
    "                    while (\n",
    "                        stack\n",
    "                        and stack[-1] in operators_precedence.keys()\n",
    "                        and operators_precedence[stack[-1]]\n",
    "                        >= operators_precedence[char]\n",
    "                    ):\n",
    "                        output_queue.append(stack.pop())\n",
    "\n",
    "                    stack.append(char)\n",
    "\n",
    "                elif char in operators_precedence.keys() and stack[-1] == \"(\":\n",
    "                    stack.append(char)\n",
    "\n",
    "                elif char == \"(\":\n",
    "                    stack.append(char)\n",
    "\n",
    "                elif char == \")\":\n",
    "                    while stack and stack[-1] != \"(\":\n",
    "                        output_queue.append(stack.pop())\n",
    "\n",
    "                    else:\n",
    "                        if stack[-1] == \"(\":\n",
    "                            stack.pop()\n",
    "                        else:\n",
    "                            return False\n",
    "\n",
    "            elif char != \"[\" and char != \"]\":\n",
    "                stack.append(char)\n",
    "\n",
    "        index += 1\n",
    "\n",
    "    if \"(\" in stack or \")\" in stack:\n",
    "        return False\n",
    "\n",
    "    while stack:\n",
    "        top = stack[-1]\n",
    "        if top == \"(\":\n",
    "            return False\n",
    "        output_queue.append(stack.pop())\n",
    "    return output_queue\n",
    "\n",
    "\n",
    "# regex = \"(A+.B*)?.(C|D)\"\n",
    "# regex = \"[xA-c09]\"\n",
    "regex = \"ab+[a-c1-0]*\"\n",
    "# regex = \"ab+A*\"\n",
    "\n",
    "\n",
    "# print(\"\".join(regex_to_postfix(regex)))\n",
    "\n",
    "# regex = \"ab+A*\"\n",
    "# abA*+\n",
    "\n",
    "print(regex_to_postfix(regex))"
   ]
  },
  {
   "cell_type": "code",
   "execution_count": 29,
   "metadata": {},
   "outputs": [
    {
     "name": "stdout",
     "output_type": "stream",
     "text": [
      "abA*+\n"
     ]
    }
   ],
   "source": [
    "regex = \"ab+A*\"\n",
    "\n",
    "# ab*A+\n",
    "print(\"\".join(regex_to_postfix(regex)))"
   ]
  },
  {
   "cell_type": "code",
   "execution_count": 7,
   "metadata": {},
   "outputs": [
    {
     "data": {
      "text/plain": [
       "'ab[a-c0-3]*+'"
      ]
     },
     "execution_count": 7,
     "metadata": {},
     "output_type": "execute_result"
    }
   ],
   "source": [
    "regex"
   ]
  },
  {
   "cell_type": "code",
   "execution_count": 8,
   "metadata": {},
   "outputs": [
    {
     "name": "stdout",
     "output_type": "stream",
     "text": [
      "['[', 'a', '-', 'c', '0', '-', '3']\n"
     ]
    },
    {
     "data": {
      "text/plain": [
       "'abac03*+'"
      ]
     },
     "execution_count": 8,
     "metadata": {},
     "output_type": "execute_result"
    }
   ],
   "source": [
    "\"\".join(regex_to_postfix(regex))"
   ]
  },
  {
   "cell_type": "code",
   "execution_count": 9,
   "metadata": {},
   "outputs": [],
   "source": [
    "# Algorithm\n",
    "# ( -> push to stack\n",
    "# Alphanumeric -> append to output queue\n",
    "# operator\n",
    "# {\n",
    "#     \"*\" : 5,\n",
    "#     \"+\" : 4,\n",
    "#     \"?\" : 3,\n",
    "#     \".\" : 2,\n",
    "#     \"|\" : 1\n",
    "# }\n",
    "# [abc] -> a | b | c\n",
    "# ) -> pop from stack until you find (\n",
    "# ranges -"
   ]
  },
  {
   "cell_type": "code",
   "execution_count": 41,
   "metadata": {},
   "outputs": [],
   "source": [
    "#   new_range_regex = [\"(\"]\n",
    "#                     closing_index = regex[index:].index(\"]\") + index\n",
    "#                     index_range = index + 1\n",
    "\n",
    "#                     while index_range < closing_index:\n",
    "#                         char_range = regex[index_range]\n",
    "#                         if char_range in alpha_numerics:\n",
    "#                             next_char = regex[index_range + 1]\n",
    "#                             if next_char == \"]\":\n",
    "#                                 # new_range_regex.append(\"|\")\n",
    "#                                 new_range_regex.append(char_range)\n",
    "#                                 break\n",
    "\n",
    "#                             elif next_char in alpha_numerics:\n",
    "#                                 new_range_regex.append(char_range)\n",
    "#                                 new_range_regex.append(\"|\")\n",
    "#                                 index_range += 1\n",
    "\n",
    "#                             elif next_char == \"-\":\n",
    "#                                 end_range = regex[index_range + 2]\n",
    "#                                 index_range += 2\n",
    "\n",
    "#                                 if not end_range in alpha_numerics or ord(\n",
    "#                                     end_range\n",
    "#                                 ) < ord(char_range):\n",
    "#                                     return False\n",
    "\n",
    "#                                 to_append = char_range\n",
    "\n",
    "#                                 while to_append != end_range:\n",
    "\n",
    "#                                     if to_append not in alpha_numerics:  # like if A-a\n",
    "#                                         return False\n",
    "\n",
    "#                                     new_range_regex.append(to_append)\n",
    "#                                     new_range_regex.append(\"|\")\n",
    "#                                     to_append = chr(ord(to_append) + 1)\n",
    "\n",
    "#                                 else:\n",
    "#                                     new_range_regex.append(to_append)\n",
    "#                                     index_range += 1\n",
    "#                                     if regex[index_range] in alpha_numerics:\n",
    "#                                         new_range_regex.append(\"|\")\n",
    "\n",
    "#                         elif (\n",
    "#                             char_range == \"-\"\n",
    "#                             or char_range in operators_precedence.keys()\n",
    "#                         ):\n",
    "#                             return False\n",
    "\n",
    "#                         else:\n",
    "#                             index_range += 1\n",
    "\n",
    "#                     new_range_regex.append(\")\")\n",
    "#                     print(\n",
    "#                         \"NEW REGEX\",\n",
    "#                         # regex[:index],\n",
    "#                         new_range_regex,\n",
    "#                         # regex[closing_index + 1 :],\n",
    "#                         sep=\"\\n\",\n",
    "#                     )\n",
    "#                     regex = regex[:index] + new_range_regex + regex[closing_index + 1 :]\n",
    "#                     continue"
   ]
  },
  {
   "cell_type": "code",
   "execution_count": 70,
   "metadata": {},
   "outputs": [
    {
     "data": {
      "text/plain": [
       "True"
      ]
     },
     "execution_count": 70,
     "metadata": {},
     "output_type": "execute_result"
    }
   ],
   "source": [
    "validate_range(\"[a-b]\")"
   ]
  },
  {
   "cell_type": "code",
   "execution_count": 11,
   "metadata": {},
   "outputs": [
    {
     "data": {
      "text/plain": [
       "'\\ntest cases\\n+++ -> invalid\\n\"[a-cA-c09]\"\\n\\nab[a-c0-3]* -> bayza\\n\\n'"
      ]
     },
     "execution_count": 11,
     "metadata": {},
     "output_type": "execute_result"
    }
   ],
   "source": [
    "\"\"\"\n",
    "test cases\n",
    "+++ -> invalid\n",
    "\"[a-cA-c09]\"\n",
    "\n",
    "ab[a-c0-3]* -> bayza\n",
    "\n",
    "\"\"\""
   ]
  },
  {
   "cell_type": "code",
   "execution_count": 12,
   "metadata": {},
   "outputs": [
    {
     "name": "stdout",
     "output_type": "stream",
     "text": [
      "0\n",
      "1\n",
      "2\n",
      "3\n",
      "4\n",
      "5\n",
      "6\n",
      "7\n",
      "8\n",
      "9\n"
     ]
    }
   ],
   "source": [
    "for i in range(10):\n",
    "    print(i)\n",
    "    if i == 5:\n",
    "        i = 7"
   ]
  },
  {
   "cell_type": "code",
   "execution_count": 13,
   "metadata": {},
   "outputs": [],
   "source": [
    "import re\n",
    "\n",
    "\n",
    "def validateRegex(regex):\n",
    "    try:\n",
    "        re.compile(regex)\n",
    "    except re.error:\n",
    "        print(f\"Invalid regular expression: {regex}\")\n",
    "        return False\n",
    "    return True\n",
    "\n",
    "\n",
    "class POSTFIX:\n",
    "    def __init__(self, regex):\n",
    "        self.regex = regex\n",
    "        self.postfix = self.shunt_yard(regex)\n",
    "\n",
    "    def get_postfix(self):\n",
    "        return self.postfix\n",
    "\n",
    "    def shunt_yard(self, regex):\n",
    "        # Map each operator to its precedence level.\n",
    "        # The operators supported by this code are * (kleene star), + (one or more), ? (zero or one), . (concatenation), and | (alternation).\n",
    "        operators = {\"*\": 5, \"+\": 4, \"?\": 3, \".\": 2, \"|\": 1}\n",
    "        # postfix will eventually store the postfix notation of the input regular expression,.\n",
    "        # stack is used as an intermediate stack in the Shunting Yard algorithm.\n",
    "        postfix, stack = \"\", \"\"\n",
    "        # Check if the regular expression contains any character classes (denoted by square brackets).\n",
    "        # If a character class is found, the function converts it to an alternation between the characters inside the class.\n",
    "        # For example, the character class [abc] would be converted to the regular expression (a|b|c).\n",
    "        # This is done using a while loop that iterates over the characters of the regular expression, finds the opening and closing brackets of the character class, and replaces the contents of the class with an alternation.\n",
    "        for i in range(len(regex)):\n",
    "            c = regex[i]\n",
    "            if c == \"[\":\n",
    "                j = i + 1\n",
    "                while regex[j] != \"]\":\n",
    "                    if regex[j].isalnum() and regex[j + 1].isalnum():\n",
    "                        regex = regex[: j + 1] + \"|\" + regex[j + 1 :]\n",
    "                    j += 1\n",
    "\n",
    "        # Replace all remaining square brackets with parentheses.\n",
    "        # This is done because parentheses are used to group sub-expressions in regular expressions\n",
    "        regex = regex.replace(\"[\", \"(\")\n",
    "        regex = regex.replace(\"]\", \")\")\n",
    "\n",
    "        print(\"postfix1: \", regex)\n",
    "\n",
    "        # Replace any hyphen character (-) in the regular expression with an alternation between the characters on either side of the hyphen.\n",
    "        # For example, the expression a-z would be converted to (a|b|c|...|y|z).\n",
    "        # This is done using another for loop that iterates over the characters of the regular expression, finds the hyphen character, and replaces it with an alternation.\n",
    "        hyphen_count = regex.count(\"-\")\n",
    "        for i in range(hyphen_count):\n",
    "            for j in range(len(regex)):\n",
    "                c = regex[j]\n",
    "                if c == \"-\":\n",
    "                    final = regex[j + 1]\n",
    "                    first = regex[j - 1]\n",
    "                    temp_list = \"\"\n",
    "                    for k in range(int(ord(final) - ord(first))):\n",
    "                        temp_list = temp_list + \"|\"\n",
    "                        char = chr(ord(first) + k + 1)\n",
    "                        temp_list = temp_list + char\n",
    "                    regex = regex[0:j] + temp_list + regex[j + 2 :]\n",
    "                    break\n",
    "        print(\"postfix2: \", regex)\n",
    "        # Insert a concatenation operator (.) between any two adjacent characters(characters that are not operators), unless the characters are already separated by an operator, or the second character is an opening parenthesis.\n",
    "        dotIndices = []\n",
    "        for i in range(len(regex) - 1):\n",
    "            startOps = [\")\", \"*\", \"+\", \"*\"]\n",
    "            endOps = [\"*\", \"+\", \".\", \"|\", \")\"]\n",
    "            if regex[i] in startOps and regex[i + 1] not in endOps:\n",
    "                dotIndices.append(i)\n",
    "            elif regex[i].isalnum() and (regex[i + 1].isalnum() or regex[i + 1] == \"(\"):\n",
    "                dotIndices.append(i)\n",
    "\n",
    "        for i in range(len(dotIndices)):\n",
    "            regex = (\n",
    "                regex[: dotIndices[i] + 1 + i] + \".\" + regex[dotIndices[i] + 1 + i :]\n",
    "            )\n",
    "        print(\"postfix3: \", regex)\n",
    "        # Iterate over each character of the regular expression and performs the Shunting Yard algorithm.\n",
    "        for i in range(len(regex)):\n",
    "            c = regex[i]\n",
    "            # If the character is an opening parenthesis, push it onto the stack.\n",
    "            if c == \"(\":\n",
    "                stack = stack + c\n",
    "            # If the character is a closing parenthesis, pop operators off the stack and append them to the postfix string until an opening parenthesis is found. Then pop the opening parenthesis from the stack.\n",
    "            elif c == \")\":\n",
    "                while stack[-1] != \"(\":\n",
    "                    # places the character at the end of the stack in the postfix expression\n",
    "                    postfix = postfix + stack[-1]\n",
    "                    # [:-1] denotes up to or including the last character\n",
    "                    stack = stack[:-1]\n",
    "                stack = stack[:-1]  # removes the open bracket in the stack\n",
    "\n",
    "            # If the character is an operator, pop operators off the stack and append them to the postfix string as long as they have higher or equal precedence to the current operator. Then push the current operator onto the stack.\n",
    "            elif c in operators:\n",
    "                while stack and operators.get(c, 0) <= operators.get(stack[-1], 0):\n",
    "                    postfix, stack = postfix + stack[-1], stack[:-1]\n",
    "                stack = stack + c\n",
    "\n",
    "            # If the character is a operand (i.e. not an operator or parenthesis), append it to the postfix string.\n",
    "            else:\n",
    "                postfix = postfix + c\n",
    "        # After iterating over all characters of the regular expression, the function pops any remaining operators off the stack and appends them to the postfix string.\n",
    "        while stack:\n",
    "            postfix, stack = postfix + stack[-1], stack[:-1]\n",
    "        print(\"postfix5: \", regex)\n",
    "\n",
    "        # Finally, the function returns the postfix notation of the input regular expression.\n",
    "        return postfix"
   ]
  },
  {
   "cell_type": "code",
   "execution_count": 14,
   "metadata": {},
   "outputs": [
    {
     "name": "stdout",
     "output_type": "stream",
     "text": [
      "postfix1:  ab(a-c|0-3)*+\n",
      "postfix2:  ab(a|b|c|0|1|2|3)*+\n",
      "postfix3:  a.b.(a|b|c|0|1|2|3)*+\n",
      "postfix5:  a.b.(a|b|c|0|1|2|3)*+\n",
      "----------------------------------------------------------------\n",
      "regex: ab[a-c0-3]*+\n",
      "----------------------------------------------------------------\n",
      "postfix:  ab.ab|c|0|1|2|3|*+.\n",
      "----------------------------------------------------------------\n"
     ]
    }
   ],
   "source": [
    "# regex = \"ab[a-c0-3]*\"\n",
    "postfix = POSTFIX(regex)\n",
    "print(\"----------------------------------------------------------------\")\n",
    "print(\"regex:\", regex)\n",
    "print(\"----------------------------------------------------------------\")\n",
    "print(\"postfix: \", postfix.get_postfix())\n",
    "print(\"----------------------------------------------------------------\")"
   ]
  },
  {
   "cell_type": "code",
   "execution_count": null,
   "metadata": {},
   "outputs": [],
   "source": []
  }
 ],
 "metadata": {
  "kernelspec": {
   "display_name": "base",
   "language": "python",
   "name": "python3"
  },
  "language_info": {
   "codemirror_mode": {
    "name": "ipython",
    "version": 3
   },
   "file_extension": ".py",
   "mimetype": "text/x-python",
   "name": "python",
   "nbconvert_exporter": "python",
   "pygments_lexer": "ipython3",
   "version": "3.9.18"
  }
 },
 "nbformat": 4,
 "nbformat_minor": 2
}
